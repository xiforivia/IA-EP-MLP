{
 "cells": [
  {
   "cell_type": "markdown",
   "metadata": {},
   "source": [
    "# Fashion MNIST with Keras using a Multilayer perceptron"
   ]
  },
  {
   "cell_type": "markdown",
   "metadata": {},
   "source": [
    "**Note**: This tutorial is based off of the [Keras MNIST tutorial](https://github.com/wxs/keras-mnist-tutorial) by [wxs](https://github.com/wxs).\n",
    "\n",
    "*Fashion MNIST* is a dataset from online fashion retailer *Zalando* consisting of a training set of 60,000 examples and a test set of 10,000 examples, where each example is a 28x28 grayscale image belonging to one of 10 possible classes (such as a t-shirt, dress, etc). It can be used as a drop-in replacement for the original MNIST digit dataset. \n",
    "\n",
    "In this tutorial, we'll train a type of **fully connected neural network** called a **multilayer perceptron** to predict the clothing category for each image. Because the image can belong to one of ten categories, this prediction problem is a multi-class classification problem. We will access the neural network library *Keras* through a *Tensorflow* backend."
   ]
  },
  {
   "cell_type": "markdown",
   "metadata": {},
   "source": [
    "The class labels are as follows:\n",
    "\n",
    "| Label | Description   | \n",
    "| ----- |:-------------:| \n",
    "| 0     | T-shirt/top   | \n",
    "| 1     | Trouser       |   \n",
    "| 2     | Pullover      |  \n",
    "| 3     | Dress         | \n",
    "| 4     | Coat          |   \n",
    "| 5     | Sandal        | \n",
    "| 6     | Shirt         | \n",
    "| 7     | Sneaker       |   \n",
    "| 8     | Bag           |  \n",
    "| 9     | Ankle boot    |  "
   ]
  },
  {
   "cell_type": "markdown",
   "metadata": {},
   "source": [
    "# Import packages"
   ]
  },
  {
   "cell_type": "code",
   "execution_count": 1,
   "metadata": {},
   "outputs": [],
   "source": [
    "import numpy as np\n",
    "import matplotlib.pyplot as plt\n",
    "import pandas as pd\n",
    "import seaborn as sns"
   ]
  },
  {
   "cell_type": "code",
   "execution_count": 2,
   "metadata": {},
   "outputs": [
    {
     "name": "stderr",
     "output_type": "stream",
     "text": [
      "//anaconda/envs/tensorflow/lib/python3.6/site-packages/h5py/__init__.py:36: FutureWarning: Conversion of the second argument of issubdtype from `float` to `np.floating` is deprecated. In future, it will be treated as `np.float64 == np.dtype(float).type`.\n",
      "  from ._conv import register_converters as _register_converters\n",
      "Using TensorFlow backend.\n"
     ]
    }
   ],
   "source": [
    "from keras.callbacks import ModelCheckpoint\n",
    "from keras.datasets import fashion_mnist\n",
    "from keras.layers.core import Dense, Dropout, Activation\n",
    "from keras.models import Sequential\n",
    "from keras.utils import np_utils"
   ]
  },
  {
   "cell_type": "markdown",
   "metadata": {},
   "source": [
    "# Load data"
   ]
  },
  {
   "cell_type": "code",
   "execution_count": 3,
   "metadata": {},
   "outputs": [
    {
     "name": "stdout",
     "output_type": "stream",
     "text": [
      "X_train original shape (60000, 28, 28)\n",
      "y_train original shape (60000,)\n"
     ]
    }
   ],
   "source": [
    "(X_train, y_train), (X_test, y_test) = fashion_mnist.load_data()\n",
    "print(\"X_train original shape\", X_train.shape)\n",
    "print(\"y_train original shape\", y_train.shape)"
   ]
  },
  {
   "cell_type": "markdown",
   "metadata": {},
   "source": [
    "Let's look at some examples of the training data."
   ]
  },
  {
   "cell_type": "code",
   "execution_count": 4,
   "metadata": {},
   "outputs": [
    {
     "data": {
      "image/png": "[encoded data removed]",
      "text/plain": [
       "<Figure size 720x288 with 10 Axes>"
      ]
     },
     "metadata": {},
     "output_type": "display_data"
    }
   ],
   "source": [
    "class_labels_dict = {0:\"T-shirt/top\",1:\"Trouser\",2:\"Pullover\",3:\"Dress\",4:\"Coat\",5:\"Sandal\",6:\"Shirt\",7:\"Sneaker\",8:\"Bag\",9:\"Ankle boot\"}\n",
    "\n",
    "fig = plt.figure(figsize=(10,4))\n",
    "\n",
    "for i in range(10):\n",
    "    plt.subplot(2,5,i+1)\n",
    "    img = X_train[y_train == i][0]\n",
    "    plt.imshow(img, cmap='gray', interpolation='none')\n",
    "    plt.title(\"Class: {}\".format(class_labels_dict[i]))\n",
    "    plt.axis('off')\n",
    "    \n",
    "plt.tight_layout()"
   ]
  },
  {
   "cell_type": "markdown",
   "metadata": {},
   "source": [
    "# Format the data"
   ]
  },
  {
   "cell_type": "markdown",
   "metadata": {},
   "source": [
    "The inputs to our neural network have to be single vectors rather than 2D images. As a result, we will have to reshape the input so that each 28x28 image becomes a single 784 dimensional vector. Unfortunately, this leads to some loss of information, as it becomes less clear which image pixels are next to each other."
   ]
  },
  {
   "cell_type": "code",
   "execution_count": 5,
   "metadata": {},
   "outputs": [
    {
     "name": "stdout",
     "output_type": "stream",
     "text": [
      "Training matrix shape (60000, 784)\n",
      "Testing matrix shape (10000, 784)\n"
     ]
    }
   ],
   "source": [
    "X_train = X_train.reshape(X_train.shape[0], 784)\n",
    "X_test = X_test.reshape(X_test.shape[0], 784)\n",
    "X_train = X_train.astype('float32')\n",
    "X_test = X_test.astype('float32')\n",
    "\n",
    "print(\"Training matrix shape\", X_train.shape)\n",
    "print(\"Testing matrix shape\", X_test.shape)"
   ]
  },
  {
   "cell_type": "markdown",
   "metadata": {},
   "source": [
    "We also normalise the inputs so that pixel values are in the [0-1] range rather than [0-255]."
   ]
  },
  {
   "cell_type": "code",
   "execution_count": 6,
   "metadata": {
    "collapsed": true
   },
   "outputs": [],
   "source": [
    "X_train /= 255\n",
    "X_test /= 255"
   ]
  },
  {
   "cell_type": "markdown",
   "metadata": {},
   "source": [
    "At the moment, the target vectors `y_train` and `y_test` are represented as arrays which can take the values 0, 1, 2, etc. This means our model would assume that predicting 1 instead of 0 is better than predicting 5. But our labels are actually categorical - the value 0 encodes t-shirts or tops, which are no more similar to trousers (encoded by 1) than they are to sandals (encoded by 5). To address this, we use **one-hot encoding**, a common technique for dealing with categorical variables.\n",
    "\n",
    "One-hot encoding maps the classes in the following way:\n",
    "\n",
    "`\n",
    "0 -> [1, 0, 0, 0, 0, 0, 0, 0, 0]\n",
    "1 -> [0, 1, 0, 0, 0, 0, 0, 0, 0]\n",
    "2 -> [0, 0, 1, 0, 0, 0, 0, 0, 0]\n",
    "`\n",
    "etc."
   ]
  },
  {
   "cell_type": "code",
   "execution_count": 7,
   "metadata": {
    "collapsed": true
   },
   "outputs": [],
   "source": [
    "# Convert 1-dimensional class arrays to 10-dimensional class matrices using one-hot encoding\n",
    "num_classes = 10 # There are 10 classes possible \n",
    "Y_train = np_utils.to_categorical(y_train, num_classes)\n",
    "Y_test = np_utils.to_categorical(y_test, num_classes)"
   ]
  },
  {
   "cell_type": "markdown",
   "metadata": {},
   "source": [
    "# Build the neural network"
   ]
  },
  {
   "cell_type": "markdown",
   "metadata": {},
   "source": [
    "In this tutorial, we are building a **fully connected** network. This is a general purpose architecture where each node is connected to every node in the previous layer. \n",
    "\n",
    "![Neural Network Architecture](http://www.dspguide.com/graphics/F_26_5.gif)\n",
    "Figure from [The Scientist and Engineer's Guide to Digital Signal Processing](http://www.dspguide.com/ch26/2.htm)"
   ]
  },
  {
   "cell_type": "markdown",
   "metadata": {},
   "source": [
    "When defining a neural network, we need to decide on the **number of hidden layers**, the **number of nodes in each layer**, and the **activation functions** used between layers. We will build a simple network of three layers - an input layer, one hidden layer, and an output layer, with 512 units in the input and hidden layer. \n",
    "\n",
    "**Activation functions** propagate the output of one layer's nodes forward to the next layer. We use the *ReLU* activation function for the input and hidden layer, and the *softmax* activation function for the output layer. The softmax activation function normalizes output and assigns a probability to each class. For instance, if the model see a picture of a dress, it might assign a 80% probability that the item of clothing is a dress, as well as 10% probability that it's a pullover, and smaller probabilities to the other remaining classes. We then predict the class with the highest probability.\n",
    "\n",
    "We also add **Dropout** masks in between layers. These masks help prevent the model from overfitting on the training data."
   ]
  },
  {
   "cell_type": "code",
   "execution_count": 8,
   "metadata": {
    "collapsed": true
   },
   "outputs": [],
   "source": [
    "model = Sequential() # Declare a Sequential model \n",
    "model.add(Dense(512, input_shape=(784,))) # Add a dense input layer of 512 units\n",
    "                                        # The input shape is (784,) because the features are 784 dimensional vectors\n",
    "model.add(Activation('relu')) # Apply ReLu activation function to the layer output\n",
    "model.add(Dropout(0.2)) # Dropout helps prevent the model from overfitting on the training data\n",
    "model.add(Dense(512)) # Add a hidden layer of 512 units\n",
    "model.add(Activation('relu'))\n",
    "model.add(Dropout(0.2))\n",
    "model.add(Dense(num_classes)) # Add an output layer of 10 units, the number of classes \n",
    "model.add(Activation('softmax')) # The \"softmax\" activation ensures the output is a valid probability distribution"
   ]
  },
  {
   "cell_type": "markdown",
   "metadata": {},
   "source": [
    "# Compile the model"
   ]
  },
  {
   "cell_type": "markdown",
   "metadata": {},
   "source": [
    "When compiling a model, Keras requires a **loss function** and **optimiser**. \n",
    "\n",
    "- The loss function we'll use here is **categorical cross entropy**, a popular loss function well-suited to comparing two probability distributions. It is given by the formula $H(p,q) = -\\sum\\limits_{x} p(x) \\text{log} (q(x))$, where $p$ is the predicted probability and $q$ is the actual probability. We sum over the 10 possible classes. Cross entropy loss increases as the predicted probability diverges from the actual label. Suppose the actual label of an observation is 1 but our predicted probability for class 1 is 0.01. This would give a higher loss value than a predicted probability of 0.40. A perfect model would have a loss value of 0.\n",
    "\n",
    "\n",
    "- The optimiser determines the **learning rate** of the neural network. The learning rate is the amount by which you adjust parameters to minimise the neural network's errors. A large learning rate means parameters take leaps - this can save time but can overshoot. A small learning rate inches along slowly, but can take longer. Here, we will use the \"Adam\" optimiser to determine the learning rates for us."
   ]
  },
  {
   "cell_type": "code",
   "execution_count": 9,
   "metadata": {
    "collapsed": true
   },
   "outputs": [],
   "source": [
    "model.compile(loss='categorical_crossentropy', optimizer='adam', metrics=['accuracy'])"
   ]
  },
  {
   "cell_type": "markdown",
   "metadata": {},
   "source": [
    "# Train the model\n",
    "\n",
    "Next, we fit our model on the training set and use it to make predictions on the test set. \n",
    "\n",
    "The hyperparameters we pass here are:\n",
    "- **batch size** - the number of training examples used in one forward/backward pass of the neural network model\n",
    "- **number of epochs** - the number of times the training algorithm iterates over the *entire* training set\n",
    "\n",
    "A greater batch size results in a more accurate calculation of the gradient, but comes at the cost of a greater memory requirement and [potentially overfitting](https://stats.stackexchange.com/questions/164876/tradeoff-batch-size-vs-number-of-iterations-to-train-a-neural-network). If we have 60k examples in our training dataset, and a batch size of 128 examples, then each epoch will involve 469 iterations. \n",
    "\n",
    "Increasing the number of epochs leads to greater accuracy on the training set, but it can also lead to overfitting, demonstrated by an increase in the error rate on the test set.  "
   ]
  },
  {
   "cell_type": "markdown",
   "metadata": {},
   "source": [
    "We will use Keras' `ModelCheckpoint` to save the model as an HDF5 file for future use. This saved model will include the specified architecture and the weights that the model has learned over the training data. We could then load this model using `load_model`. By specifying `save_best_only` we only save the model at its best-performing epoch."
   ]
  },
  {
   "cell_type": "code",
   "execution_count": 10,
   "metadata": {},
   "outputs": [
    {
     "name": "stdout",
     "output_type": "stream",
     "text": [
      "Train on 60000 samples, validate on 10000 samples\n",
      "Epoch 1/25\n",
      "60000/60000 [==============================] - 10s 172us/step - loss: 0.5149 - acc: 0.8133 - val_loss: 0.4130 - val_acc: 0.8515\n",
      "Epoch 2/25\n",
      "60000/60000 [==============================] - 10s 163us/step - loss: 0.3799 - acc: 0.8618 - val_loss: 0.3806 - val_acc: 0.8639\n",
      "Epoch 3/25\n",
      "60000/60000 [==============================] - 10s 170us/step - loss: 0.3494 - acc: 0.8705 - val_loss: 0.3547 - val_acc: 0.8713\n",
      "Epoch 4/25\n",
      "60000/60000 [==============================] - 10s 173us/step - loss: 0.3253 - acc: 0.8799 - val_loss: 0.3602 - val_acc: 0.8686\n",
      "Epoch 5/25\n",
      "60000/60000 [==============================] - 10s 170us/step - loss: 0.3107 - acc: 0.8852 - val_loss: 0.3402 - val_acc: 0.8773\n",
      "Epoch 6/25\n",
      "60000/60000 [==============================] - 10s 171us/step - loss: 0.2952 - acc: 0.8891 - val_loss: 0.3318 - val_acc: 0.8828\n",
      "Epoch 7/25\n",
      "60000/60000 [==============================] - 11s 178us/step - loss: 0.2856 - acc: 0.8931 - val_loss: 0.3254 - val_acc: 0.8811\n",
      "Epoch 8/25\n",
      "60000/60000 [==============================] - 10s 173us/step - loss: 0.2736 - acc: 0.8964 - val_loss: 0.3251 - val_acc: 0.8828\n",
      "Epoch 9/25\n",
      "60000/60000 [==============================] - 10s 174us/step - loss: 0.2638 - acc: 0.9013 - val_loss: 0.3283 - val_acc: 0.8792\n",
      "Epoch 10/25\n",
      "60000/60000 [==============================] - 10s 172us/step - loss: 0.2589 - acc: 0.9022 - val_loss: 0.3290 - val_acc: 0.8819\n",
      "Epoch 11/25\n",
      "60000/60000 [==============================] - 11s 190us/step - loss: 0.2564 - acc: 0.9028 - val_loss: 0.3182 - val_acc: 0.8855\n",
      "Epoch 12/25\n",
      "60000/60000 [==============================] - 11s 182us/step - loss: 0.2479 - acc: 0.9063 - val_loss: 0.3303 - val_acc: 0.8827\n",
      "Epoch 13/25\n",
      "60000/60000 [==============================] - 11s 180us/step - loss: 0.2461 - acc: 0.9060 - val_loss: 0.3290 - val_acc: 0.8857\n",
      "Epoch 14/25\n",
      "60000/60000 [==============================] - 8s 141us/step - loss: 0.2352 - acc: 0.9116 - val_loss: 0.3080 - val_acc: 0.8890\n",
      "Epoch 15/25\n",
      "60000/60000 [==============================] - 8s 131us/step - loss: 0.2279 - acc: 0.9141 - val_loss: 0.3144 - val_acc: 0.8906\n",
      "Epoch 16/25\n",
      "60000/60000 [==============================] - 8s 129us/step - loss: 0.2220 - acc: 0.9147 - val_loss: 0.3145 - val_acc: 0.8913\n",
      "Epoch 17/25\n",
      "60000/60000 [==============================] - 10s 174us/step - loss: 0.2193 - acc: 0.9155 - val_loss: 0.3232 - val_acc: 0.8812\n",
      "Epoch 18/25\n",
      "60000/60000 [==============================] - 9s 157us/step - loss: 0.2151 - acc: 0.9176 - val_loss: 0.3022 - val_acc: 0.8965\n",
      "Epoch 19/25\n",
      "60000/60000 [==============================] - 9s 155us/step - loss: 0.2087 - acc: 0.9196 - val_loss: 0.3209 - val_acc: 0.8899\n",
      "Epoch 20/25\n",
      "60000/60000 [==============================] - 10s 161us/step - loss: 0.2076 - acc: 0.9201 - val_loss: 0.3161 - val_acc: 0.8885\n",
      "Epoch 21/25\n",
      "60000/60000 [==============================] - 11s 189us/step - loss: 0.2023 - acc: 0.9225 - val_loss: 0.3098 - val_acc: 0.8905\n",
      "Epoch 22/25\n",
      "60000/60000 [==============================] - 9s 145us/step - loss: 0.1997 - acc: 0.9237 - val_loss: 0.3161 - val_acc: 0.8932\n",
      "Epoch 23/25\n",
      "60000/60000 [==============================] - 10s 174us/step - loss: 0.1953 - acc: 0.9254 - val_loss: 0.3113 - val_acc: 0.8955\n",
      "Epoch 24/25\n",
      "60000/60000 [==============================] - 8s 134us/step - loss: 0.1912 - acc: 0.9264 - val_loss: 0.3124 - val_acc: 0.8931\n",
      "Epoch 25/25\n",
      "60000/60000 [==============================] - 8s 134us/step - loss: 0.1865 - acc: 0.9283 - val_loss: 0.3184 - val_acc: 0.8958\n"
     ]
    }
   ],
   "source": [
    "filepath=\"mlp-weights.{epoch:02d}-{val_loss:.2f}.hdf5\"\n",
    "checkpoint = ModelCheckpoint(filepath, monitor='val_acc', verbose=1, save_best_only=True, mode='max')\n",
    "\n",
    "history = model.fit(X_train, \n",
    "                    Y_train,\n",
    "                    batch_size=128, \n",
    "                    epochs=25,\n",
    "                    verbose=1,\n",
    "                    validation_data=(X_test,Y_test))"
   ]
  },
  {
   "cell_type": "markdown",
   "metadata": {},
   "source": [
    "# Evaluate Performance"
   ]
  },
  {
   "cell_type": "code",
   "execution_count": 11,
   "metadata": {},
   "outputs": [
    {
     "data": {
      "image/png": "[encoded data removed]",
      "text/plain": [
       "<Figure size 432x288 with 1 Axes>"
      ]
     },
     "metadata": {},
     "output_type": "display_data"
    }
   ],
   "source": [
    "plt.plot(range(1,1+len(history.history['acc'])), history.history['acc'])\n",
    "plt.plot(range(1,1+len(history.history['val_acc'])), history.history['val_acc'])\n",
    "plt.title('Model Accuracy vs Number of Epochs')\n",
    "plt.ylabel('Accuracy')\n",
    "plt.xlabel('Epoch Number')\n",
    "plt.legend(['train', 'test'], loc='best')\n",
    "plt.xticks(np.arange(0,28,2))\n",
    "plt.show()"
   ]
  },
  {
   "cell_type": "code",
   "execution_count": 12,
   "metadata": {},
   "outputs": [
    {
     "name": "stdout",
     "output_type": "stream",
     "text": [
      "Best test accuracy was 0.896500 at epoch 18\n"
     ]
    }
   ],
   "source": [
    "best_score = max(history.history['val_acc'])\n",
    "best_epoch = np.array(history.history['val_acc']).argmax()+1\n",
    "print('Best test accuracy was %f at epoch %i' % (best_score, best_epoch))"
   ]
  },
  {
   "cell_type": "markdown",
   "metadata": {},
   "source": [
    "We see that, as expected, the accuracy on the training set increases with the number of epochs. The test set accuracy also initially increases with the number of epochs. However, at some point it may actually start to decrease due to overfitting. In fact, we start to see this effect here, where the test set accuracy is actually highest at the 18th epoch rather than the 25th epoch. At the 18th epoch, we achieve our highest **test set accuracy of 89.65%**. "
   ]
  },
  {
   "cell_type": "markdown",
   "metadata": {},
   "source": [
    "# Inspecting the output"
   ]
  },
  {
   "cell_type": "markdown",
   "metadata": {},
   "source": [
    "It's always a good idea to inspect the output. Here we'll look at some examples the model gets right, and some examples it gets wrong."
   ]
  },
  {
   "cell_type": "code",
   "execution_count": 13,
   "metadata": {
    "collapsed": true
   },
   "outputs": [],
   "source": [
    "y_pred = model.predict_classes(X_test)\n",
    "\n",
    "# Check which items we got right / wrong\n",
    "correct_indices = np.nonzero(y_pred == y_test)[0]\n",
    "incorrect_indices = np.nonzero(y_pred != y_test)[0]"
   ]
  },
  {
   "cell_type": "markdown",
   "metadata": {},
   "source": [
    "Let's look at some examples that the neural network predicted correctly."
   ]
  },
  {
   "cell_type": "code",
   "execution_count": 14,
   "metadata": {},
   "outputs": [
    {
     "data": {
      "image/png": "[encoded data removed]",
      "text/plain": [
       "<Figure size 576x576 with 9 Axes>"
      ]
     },
     "metadata": {},
     "output_type": "display_data"
    }
   ],
   "source": [
    "plt.figure(figsize=(8,8))\n",
    "\n",
    "for i, correct in enumerate(correct_indices[:9]):\n",
    "    plt.subplot(3,3,i+1)\n",
    "    plt.imshow(X_test[correct].reshape(28,28), cmap='gray', interpolation='none')\n",
    "    plt.title(\"Predicted:{}\\nActual:{}\".format(class_labels_dict[y_pred[correct]],class_labels_dict[y_test[correct]]))\n",
    "\n",
    "plt.tight_layout() "
   ]
  },
  {
   "cell_type": "markdown",
   "metadata": {},
   "source": [
    "Now let's look at some examples that the neural network predicted incorrectly."
   ]
  },
  {
   "cell_type": "code",
   "execution_count": 15,
   "metadata": {},
   "outputs": [
    {
     "data": {
      "image/png": "[encoded data removed]",
      "text/plain": [
       "<Figure size 576x576 with 9 Axes>"
      ]
     },
     "metadata": {},
     "output_type": "display_data"
    }
   ],
   "source": [
    "plt.figure(figsize=(8,8))\n",
    "for i, incorrect in enumerate(incorrect_indices[:9]):\n",
    "    plt.subplot(3,3,i+1)\n",
    "    plt.imshow(X_test[incorrect].reshape(28,28), cmap='gray', interpolation='none')\n",
    "    plt.title(\"Predicted: {}\\n Actual: {}\".format(class_labels_dict[y_pred[incorrect]], class_labels_dict[y_test[incorrect]]))\n",
    "    \n",
    "plt.tight_layout() "
   ]
  },
  {
   "cell_type": "markdown",
   "metadata": {},
   "source": [
    "Encouragingly, a human observer can understand why many of these items may have been misclassified. For instance, the shoe in the middle row appears to have some of the characteristics of a sandal rather than an ankle boot. Similarly, the shoe in the bottom row looks like it could easily be an ankle boot rather than a sneaker. We also see a few examples where the model has incorrectly predicted a coat to be a pullover. "
   ]
  },
  {
   "cell_type": "markdown",
   "metadata": {},
   "source": [
    "Our analysis above also suggests that some classes may get misclassified more frequently than others. We can use the `classification_report` method from `scikit-learn` to get the classification metrics on each class. This will allow us to see which classes are most frequently misclassified. "
   ]
  },
  {
   "cell_type": "code",
   "execution_count": 16,
   "metadata": {},
   "outputs": [
    {
     "name": "stdout",
     "output_type": "stream",
     "text": [
      "              precision    recall  f1-score   support\n",
      "\n",
      " T-shirt/top       0.83      0.88      0.85      1000\n",
      "     Trouser       0.99      0.98      0.98      1000\n",
      "    Pullover       0.77      0.87      0.81      1000\n",
      "       Dress       0.90      0.90      0.90      1000\n",
      "        Coat       0.83      0.79      0.81      1000\n",
      "      Sandal       0.98      0.97      0.97      1000\n",
      "       Shirt       0.76      0.67      0.71      1000\n",
      "     Sneaker       0.96      0.96      0.96      1000\n",
      "         Bag       0.99      0.97      0.98      1000\n",
      "  Ankle boot       0.96      0.97      0.96      1000\n",
      "\n",
      "    accuracy                           0.90     10000\n",
      "   macro avg       0.90      0.90      0.90     10000\n",
      "weighted avg       0.90      0.90      0.90     10000\n",
      "\n"
     ]
    }
   ],
   "source": [
    "from sklearn.metrics import classification_report, confusion_matrix\n",
    "target_names = [class_labels_dict[x] for x in range(0,10)]\n",
    "print(classification_report(y_test, y_pred, target_names=target_names))"
   ]
  },
  {
   "cell_type": "markdown",
   "metadata": {},
   "source": [
    "Five of the ten classes (Trouser, Sandal, Sneaker, Bag, and Ankle boot) achieve an F1-score of 0.96 or higher. Our neural network is more successfully in correctly classifying these classes, suggesting that there are obvious image features that can be used to tell them apart.\n",
    "\n",
    "On the other hand, the classes with the lowest F1-scores are Shirt (0.71), Coat (0.81) and Pullover (0.81), followed by T-shirt/top (0.85) and Dress (0.90). This may suggest that it is more difficult to \n",
    "\n",
    "The classes with the lowest precision are Shirt (0.76) and Pull over (0.77). Low precision suggests that there was a substantial number of items that we classified as pullovers but which aren't actually pullovers. We saw this scenario three times in the examples above, where coats were misclassified as pullovers.\n",
    "\n",
    "The classes with the lowest recall are Shirt (0.67) and Coat (0.79). Low recall suggests that there was a substantial number of shirts which we didn't identify as shirts, and coats which we didn't identify as coats. Again, we saw examples of this above.  "
   ]
  },
  {
   "cell_type": "markdown",
   "metadata": {},
   "source": [
    "We can also look at the **confusion matrix** to see how the classes have been misclassified. For instance, we can see that t-shirts/tops were commonly misclassified as shirts, while coats were misclassified as shirts or pullovers. "
   ]
  },
  {
   "cell_type": "code",
   "execution_count": 31,
   "metadata": {},
   "outputs": [
    {
     "data": {
      "text/html": [
       "<div>\n",
       "<style scoped>\n",
       "    .dataframe tbody tr th:only-of-type {\n",
       "        vertical-align: middle;\n",
       "    }\n",
       "\n",
       "    .dataframe tbody tr th {\n",
       "        vertical-align: top;\n",
       "    }\n",
       "\n",
       "    .dataframe thead th {\n",
       "        text-align: right;\n",
       "    }\n",
       "</style>\n",
       "<table border=\"1\" class=\"dataframe\">\n",
       "  <thead>\n",
       "    <tr style=\"text-align: right;\">\n",
       "      <th>Actual</th>\n",
       "      <th>T-shirt/top</th>\n",
       "      <th>Trouser</th>\n",
       "      <th>Pullover</th>\n",
       "      <th>Dress</th>\n",
       "      <th>Coat</th>\n",
       "      <th>Sandal</th>\n",
       "      <th>Shirt</th>\n",
       "      <th>Sneaker</th>\n",
       "      <th>Bag</th>\n",
       "      <th>Ankle boot</th>\n",
       "    </tr>\n",
       "    <tr>\n",
       "      <th>Predicted</th>\n",
       "      <th></th>\n",
       "      <th></th>\n",
       "      <th></th>\n",
       "      <th></th>\n",
       "      <th></th>\n",
       "      <th></th>\n",
       "      <th></th>\n",
       "      <th></th>\n",
       "      <th></th>\n",
       "      <th></th>\n",
       "    </tr>\n",
       "  </thead>\n",
       "  <tbody>\n",
       "    <tr>\n",
       "      <th>T-shirt/top</th>\n",
       "      <td>877</td>\n",
       "      <td>0</td>\n",
       "      <td>18</td>\n",
       "      <td>18</td>\n",
       "      <td>2</td>\n",
       "      <td>1</td>\n",
       "      <td>82</td>\n",
       "      <td>0</td>\n",
       "      <td>2</td>\n",
       "      <td>0</td>\n",
       "    </tr>\n",
       "    <tr>\n",
       "      <th>Trouser</th>\n",
       "      <td>3</td>\n",
       "      <td>978</td>\n",
       "      <td>2</td>\n",
       "      <td>9</td>\n",
       "      <td>3</td>\n",
       "      <td>0</td>\n",
       "      <td>5</td>\n",
       "      <td>0</td>\n",
       "      <td>0</td>\n",
       "      <td>0</td>\n",
       "    </tr>\n",
       "    <tr>\n",
       "      <th>Pullover</th>\n",
       "      <td>18</td>\n",
       "      <td>1</td>\n",
       "      <td>867</td>\n",
       "      <td>9</td>\n",
       "      <td>55</td>\n",
       "      <td>0</td>\n",
       "      <td>50</td>\n",
       "      <td>0</td>\n",
       "      <td>0</td>\n",
       "      <td>0</td>\n",
       "    </tr>\n",
       "    <tr>\n",
       "      <th>Dress</th>\n",
       "      <td>21</td>\n",
       "      <td>10</td>\n",
       "      <td>9</td>\n",
       "      <td>903</td>\n",
       "      <td>30</td>\n",
       "      <td>0</td>\n",
       "      <td>24</td>\n",
       "      <td>0</td>\n",
       "      <td>3</td>\n",
       "      <td>0</td>\n",
       "    </tr>\n",
       "    <tr>\n",
       "      <th>Coat</th>\n",
       "      <td>1</td>\n",
       "      <td>0</td>\n",
       "      <td>131</td>\n",
       "      <td>29</td>\n",
       "      <td>791</td>\n",
       "      <td>0</td>\n",
       "      <td>47</td>\n",
       "      <td>0</td>\n",
       "      <td>1</td>\n",
       "      <td>0</td>\n",
       "    </tr>\n",
       "    <tr>\n",
       "      <th>Sandal</th>\n",
       "      <td>0</td>\n",
       "      <td>0</td>\n",
       "      <td>0</td>\n",
       "      <td>0</td>\n",
       "      <td>0</td>\n",
       "      <td>972</td>\n",
       "      <td>0</td>\n",
       "      <td>15</td>\n",
       "      <td>0</td>\n",
       "      <td>13</td>\n",
       "    </tr>\n",
       "    <tr>\n",
       "      <th>Shirt</th>\n",
       "      <td>125</td>\n",
       "      <td>1</td>\n",
       "      <td>102</td>\n",
       "      <td>26</td>\n",
       "      <td>70</td>\n",
       "      <td>0</td>\n",
       "      <td>673</td>\n",
       "      <td>0</td>\n",
       "      <td>3</td>\n",
       "      <td>0</td>\n",
       "    </tr>\n",
       "    <tr>\n",
       "      <th>Sneaker</th>\n",
       "      <td>0</td>\n",
       "      <td>0</td>\n",
       "      <td>0</td>\n",
       "      <td>0</td>\n",
       "      <td>0</td>\n",
       "      <td>12</td>\n",
       "      <td>0</td>\n",
       "      <td>959</td>\n",
       "      <td>0</td>\n",
       "      <td>29</td>\n",
       "    </tr>\n",
       "    <tr>\n",
       "      <th>Bag</th>\n",
       "      <td>7</td>\n",
       "      <td>0</td>\n",
       "      <td>3</td>\n",
       "      <td>4</td>\n",
       "      <td>3</td>\n",
       "      <td>2</td>\n",
       "      <td>8</td>\n",
       "      <td>4</td>\n",
       "      <td>969</td>\n",
       "      <td>0</td>\n",
       "    </tr>\n",
       "    <tr>\n",
       "      <th>Ankle boot</th>\n",
       "      <td>0</td>\n",
       "      <td>0</td>\n",
       "      <td>0</td>\n",
       "      <td>0</td>\n",
       "      <td>0</td>\n",
       "      <td>7</td>\n",
       "      <td>1</td>\n",
       "      <td>23</td>\n",
       "      <td>0</td>\n",
       "      <td>969</td>\n",
       "    </tr>\n",
       "  </tbody>\n",
       "</table>\n",
       "</div>"
      ],
      "text/plain": [
       "Actual       T-shirt/top  Trouser  Pullover  Dress  Coat  Sandal  Shirt  \\\n",
       "Predicted                                                                 \n",
       "T-shirt/top          877        0        18     18     2       1     82   \n",
       "Trouser                3      978         2      9     3       0      5   \n",
       "Pullover              18        1       867      9    55       0     50   \n",
       "Dress                 21       10         9    903    30       0     24   \n",
       "Coat                   1        0       131     29   791       0     47   \n",
       "Sandal                 0        0         0      0     0     972      0   \n",
       "Shirt                125        1       102     26    70       0    673   \n",
       "Sneaker                0        0         0      0     0      12      0   \n",
       "Bag                    7        0         3      4     3       2      8   \n",
       "Ankle boot             0        0         0      0     0       7      1   \n",
       "\n",
       "Actual       Sneaker  Bag  Ankle boot  \n",
       "Predicted                              \n",
       "T-shirt/top        0    2           0  \n",
       "Trouser            0    0           0  \n",
       "Pullover           0    0           0  \n",
       "Dress              0    3           0  \n",
       "Coat               0    1           0  \n",
       "Sandal            15    0          13  \n",
       "Shirt              0    3           0  \n",
       "Sneaker          959    0          29  \n",
       "Bag                4  969           0  \n",
       "Ankle boot        23    0         969  "
      ]
     },
     "execution_count": 31,
     "metadata": {},
     "output_type": "execute_result"
    }
   ],
   "source": [
    "matrix = pd.DataFrame(confusion_matrix(y_test, y_pred), index=target_names, columns=target_names)\n",
    "matrix.index.name = 'Predicted'\n",
    "matrix.columns.name = 'Actual'\n",
    "matrix"
   ]
  },
  {
   "cell_type": "markdown",
   "metadata": {},
   "source": [
    "# Conclusion and Areas for further investigation"
   ]
  },
  {
   "cell_type": "markdown",
   "metadata": {},
   "source": [
    "With our general purpose neural network architecture, we have managed to achieve a **test set accuracy of 89.65%**, nearly 90%. While this still isn't good enough for an industrial application, in comparison, a random classifier would achieve 10% accuracy. \n",
    "\n",
    "Recall that when we built the neural network, we had to specify the number of hidden layers (also known as the **network depth**), the number of nodes in each layer (the **layer size**), and the activation functions between layers. We also had to pass several hyperparameters when compiling and training the model, including the batch size. Experimenting with these settings could lead to different results. To see how varying the network depth and layer size affects performance, please refer to [this great tutorial on the original MNIST dataset](https://medium.com/tebs-lab/how-to-classify-mnist-digits-with-different-neural-network-architectures-39c75a0f03e3). \n",
    "\n",
    "In this tutorial, we have used the multilayer perceptron architecture. As a result, we had to reshape our images into single vectors which led to some information loss. However, there are many different architectures, for instance **convolutional neural networks** which are particularly well suited for image classification problems."
   ]
  },
  {
   "cell_type": "markdown",
   "metadata": {},
   "source": [
    "# Resources\n",
    "This tutorial was written with the help of the following resources:\n",
    "- [Building a simple neural-network with Keras](https://github.com/wxs/keras-mnist-tutorial/blob/master/MNIST%20in%20Keras.ipynb) on *Github*\n",
    "- [Not another MNIST tutorial with TensorFlow](https://www.oreilly.com/learning/not-another-mnist-tutorial-with-tensorflow) on *O'Reilly*\n",
    "- [Train your first neural network: basic classification](https://www.tensorflow.org/tutorials/keras/basic_classification) on *TensorFlow*"
   ]
  }
 ],
 "metadata": {
  "anaconda-cloud": {},
  "kernelspec": {
   "display_name": "Python [conda env:tensorflow]",
   "language": "python",
   "name": "conda-env-tensorflow-py"
  },
  "language_info": {
   "codemirror_mode": {
    "name": "ipython",
    "version": 3
   },
   "file_extension": ".py",
   "mimetype": "text/x-python",
   "name": "python",
   "nbconvert_exporter": "python",
   "pygments_lexer": "ipython3",
   "version": "3.6.8"
  },
  "toc": {
   "base_numbering": 1,
   "nav_menu": {
    "height": "318px",
    "width": "412px"
   },
   "number_sections": true,
   "sideBar": true,
   "skip_h1_title": false,
   "title_cell": "Table of Contents",
   "title_sidebar": "Contents",
   "toc_cell": false,
   "toc_position": {},
   "toc_section_display": true,
   "toc_window_display": false
  }
 },
 "nbformat": 4,
 "nbformat_minor": 2
}
